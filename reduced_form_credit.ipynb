{
  "nbformat": 4,
  "nbformat_minor": 0,
  "metadata": {
    "colab": {
      "provenance": [],
      "authorship_tag": "ABX9TyPtExvhZj0uw2YXf1Mme/gL",
      "include_colab_link": true
    },
    "kernelspec": {
      "name": "python3",
      "display_name": "Python 3"
    },
    "language_info": {
      "name": "python"
    }
  },
  "cells": [
    {
      "cell_type": "markdown",
      "metadata": {
        "id": "view-in-github",
        "colab_type": "text"
      },
      "source": [
        "<a href=\"https://colab.research.google.com/github/newmantic/reduced_form_credit/blob/main/reduced_form_credit.ipynb\" target=\"_parent\"><img src=\"https://colab.research.google.com/assets/colab-badge.svg\" alt=\"Open In Colab\"/></a>"
      ]
    },
    {
      "cell_type": "code",
      "execution_count": 1,
      "metadata": {
        "id": "vvm4l_Ovq6m2"
      },
      "outputs": [],
      "source": [
        "import numpy as np\n",
        "\n",
        "def hazard_rate(a: float, b: float, X: float) -> float:\n",
        "    \"\"\"\n",
        "    Calculate the hazard rate (default intensity).\n",
        "\n",
        "    Args:\n",
        "    a (float): Base hazard rate.\n",
        "    b (float): Sensitivity to the covariate X(t).\n",
        "    X (float): External factor or covariate at time t.\n",
        "\n",
        "    Returns:\n",
        "    float: Hazard rate.\n",
        "    \"\"\"\n",
        "    return a + b * X\n",
        "\n",
        "def survival_probability(hazard_rate: float, time_horizon: float) -> float:\n",
        "    \"\"\"\n",
        "    Calculate the survival probability over a given time horizon.\n",
        "\n",
        "    Args:\n",
        "    hazard_rate (float): Constant hazard rate (default intensity).\n",
        "    time_horizon (float): Time period over which to calculate survival probability.\n",
        "\n",
        "    Returns:\n",
        "    float: Survival probability.\n",
        "    \"\"\"\n",
        "    return np.exp(-hazard_rate * time_horizon)\n",
        "\n",
        "def default_probability(hazard_rate: float, time_horizon: float) -> float:\n",
        "    \"\"\"\n",
        "    Calculate the default probability over a given time horizon.\n",
        "\n",
        "    Args:\n",
        "    hazard_rate (float): Constant hazard rate (default intensity).\n",
        "    time_horizon (float): Time period over which to calculate default probability.\n",
        "\n",
        "    Returns:\n",
        "    float: Default probability.\n",
        "    \"\"\"\n",
        "    return 1 - survival_probability(hazard_rate, time_horizon)\n",
        "\n",
        "def credit_spread(hazard_rate: float, recovery_rate: float) -> float:\n",
        "    \"\"\"\n",
        "    Calculate the credit spread based on hazard rate and recovery rate.\n",
        "\n",
        "    Args:\n",
        "    hazard_rate (float): Constant hazard rate (default intensity).\n",
        "    recovery_rate (float): Recovery rate in case of default.\n",
        "\n",
        "    Returns:\n",
        "    float: Credit spread.\n",
        "    \"\"\"\n",
        "    return hazard_rate * (1 - recovery_rate)"
      ]
    },
    {
      "cell_type": "code",
      "source": [
        "# Test case 1: Calculate Hazard Rate\n",
        "a = 0.02  # Base hazard rate\n",
        "b = 0.01  # Sensitivity to the covariate X(t)\n",
        "X = 1.5   # External factor or covariate value\n",
        "hazard = hazard_rate(a, b, X)\n",
        "print(f\"Hazard Rate: {hazard:.4f}\")  # Expected: A hazard rate based on inputs\n",
        "\n",
        "# Test case 2: Calculate Survival Probability\n",
        "time_horizon = 5  # 5 years\n",
        "survival_prob = survival_probability(hazard, time_horizon)\n",
        "print(f\"Survival Probability over {time_horizon} years: {survival_prob:.4f}\")  # Expected: A value between 0 and 1\n",
        "\n",
        "# Test case 3: Calculate Default Probability\n",
        "default_prob = default_probability(hazard, time_horizon)\n",
        "print(f\"Default Probability over {time_horizon} years: {default_prob:.4f}\")  # Expected: A value between 0 and 1\n",
        "\n",
        "# Test case 4: Calculate Credit Spread\n",
        "recovery_rate = 0.4\n",
        "spread = credit_spread(hazard, recovery_rate)\n",
        "print(f\"Credit Spread: {spread:.4f}\")  # Expected: A value representing the credit spread in basis points or percentage"
      ],
      "metadata": {
        "colab": {
          "base_uri": "https://localhost:8080/"
        },
        "id": "0To59amDrTHx",
        "outputId": "33cc1418-e31b-4fb2-abc8-9fcb0306fb4a"
      },
      "execution_count": 2,
      "outputs": [
        {
          "output_type": "stream",
          "name": "stdout",
          "text": [
            "Hazard Rate: 0.0350\n",
            "Survival Probability over 5 years: 0.8395\n",
            "Default Probability over 5 years: 0.1605\n",
            "Credit Spread: 0.0210\n"
          ]
        }
      ]
    }
  ]
}